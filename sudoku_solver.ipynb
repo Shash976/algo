{
 "cells": [
  {
   "cell_type": "code",
   "execution_count": 65,
   "metadata": {},
   "outputs": [],
   "source": [
    "main_problem = [[4,6,0,0,3,0,0,1,9],\n",
    "                [8,9,0,1,0,2,0,3,4],\n",
    "                [0,3,0,0,0,0,6,8,0],\n",
    "                [1,7,0,0,4,0,0,2,0],\n",
    "                [9,4,0,7,2,0,0,0,1],\n",
    "                [0,5,2,0,9,1,0,0,0],\n",
    "                [0,0,0,0,1,0,0,0,8],\n",
    "                [5,0,0,6,0,7,0,4,0],\n",
    "                [0,0,0,2,5,0,1,9,7]]"
   ]
  },
  {
   "cell_type": "code",
   "execution_count": 1,
   "metadata": {},
   "outputs": [],
   "source": [
    "main_problem = [[int(\"0\") for _ in range(9)],\n",
    "                [0,0,0,0,0,3,0,8,5],\n",
    "                [0,0,1,0,2,0,0,0,0],\n",
    "                [0,0,0,5,0,7,0,0,0],\n",
    "                [0,0,4,0,0,0,1,0,0],\n",
    "                [0,9,0,0,0,0,0,0,0],\n",
    "                [5,0,0,0,0,0,0,7,3],\n",
    "                [0,0,2,0,1,0,0,0,0],\n",
    "                [0,0,0,0,4,0,0,0,9]\n",
    "]"
   ]
  },
  {
   "cell_type": "code",
   "execution_count": 2,
   "metadata": {},
   "outputs": [],
   "source": [
    "sudoku_array = main_problem.copy()\n",
    "boxes = [[[0] * 3 for _ in range(3)] for _ in range(9)]\n",
    "for row_index, row in enumerate(sudoku_array):\n",
    "  for column_index, element in enumerate(row):\n",
    "    if element != 0:\n",
    "      box_index = (row_index // 3) * 3 + (column_index // 3)\n",
    "      boxes[box_index][row_index % 3][column_index % 3] = element\n"
   ]
  },
  {
   "cell_type": "code",
   "execution_count": 3,
   "metadata": {},
   "outputs": [
    {
     "name": "stdout",
     "output_type": "stream",
     "text": [
      "(9, 3, 3)\n",
      "[[[0 0 0]\n",
      "  [0 0 0]\n",
      "  [0 0 1]]\n",
      "\n",
      " [[0 0 0]\n",
      "  [0 0 3]\n",
      "  [0 2 0]]\n",
      "\n",
      " [[0 0 0]\n",
      "  [0 8 5]\n",
      "  [0 0 0]]\n",
      "\n",
      " [[0 0 0]\n",
      "  [0 0 4]\n",
      "  [0 9 0]]\n",
      "\n",
      " [[5 0 7]\n",
      "  [0 0 0]\n",
      "  [0 0 0]]\n",
      "\n",
      " [[0 0 0]\n",
      "  [1 0 0]\n",
      "  [0 0 0]]\n",
      "\n",
      " [[5 0 0]\n",
      "  [0 0 2]\n",
      "  [0 0 0]]\n",
      "\n",
      " [[0 0 0]\n",
      "  [0 1 0]\n",
      "  [0 4 0]]\n",
      "\n",
      " [[0 7 3]\n",
      "  [0 0 0]\n",
      "  [0 0 9]]]\n"
     ]
    }
   ],
   "source": [
    "import numpy as np\n",
    "print(np.array(boxes).shape)\n",
    "print(np.array(boxes))"
   ]
  },
  {
   "cell_type": "code",
   "execution_count": 4,
   "metadata": {},
   "outputs": [
    {
     "name": "stdout",
     "output_type": "stream",
     "text": [
      "3\n"
     ]
    }
   ],
   "source": [
    "boxes_rows = [boxes[i:i+3] for i in range(0,9,3)]\n",
    "print(len(boxes_rows))"
   ]
  },
  {
   "cell_type": "code",
   "execution_count": 5,
   "metadata": {},
   "outputs": [
    {
     "name": "stdout",
     "output_type": "stream",
     "text": [
      "[[[0, 0, 0], [0, 0, 0], [0, 0, 1]], [[0, 0, 0], [0, 0, 3], [0, 2, 0]], [[0, 0, 0], [0, 8, 5], [0, 0, 0]]]\n",
      "[[[0, 0, 0], [0, 0, 4], [0, 9, 0]], [[5, 0, 7], [0, 0, 0], [0, 0, 0]], [[0, 0, 0], [1, 0, 0], [0, 0, 0]]]\n",
      "[[[5, 0, 0], [0, 0, 2], [0, 0, 0]], [[0, 0, 0], [0, 1, 0], [0, 4, 0]], [[0, 7, 3], [0, 0, 0], [0, 0, 9]]]\n"
     ]
    }
   ],
   "source": [
    "for i in range (0,9,3):\n",
    "    print(boxes[i:i+3])"
   ]
  },
  {
   "cell_type": "code",
   "execution_count": 49,
   "metadata": {},
   "outputs": [
    {
     "data": {
      "text/plain": [
       "[[0, 4, 0], [7, 2, 0], [0, 9, 1]]"
      ]
     },
     "execution_count": 49,
     "metadata": {},
     "output_type": "execute_result"
    }
   ],
   "source": [
    "boxes_rows[1][1]"
   ]
  },
  {
   "cell_type": "code",
   "execution_count": 50,
   "metadata": {},
   "outputs": [],
   "source": [
    "for boxes_row_number, row_of_boxes in enumerate(boxes_rows):\n",
    "    for box_row_number, box in enumerate(row_of_boxes):\n",
    "        for row_number, row in enumerate(box):\n",
    "            for i in range(1,10):\n",
    "                if i not in row:\n",
    "                    if i not in main_problem[box_row_number]:\n",
    "                        pass"
   ]
  },
  {
   "cell_type": "code",
   "execution_count": 60,
   "metadata": {},
   "outputs": [],
   "source": [
    "for row_number, row in enumerate(sudoku_array):\n",
    "    for index, element in enumerate(row):\n",
    "        if element == 0:\n",
    "            for i in range(1,10):\n",
    "                if i not in row:\n",
    "                    if i not in [column[index] for column in sudoku_array]:\n",
    "                        if i not in [j for n in boxes_rows[row_number//3][index//3] for j in n]:\n",
    "                            sudoku_array[row_number][index] = i\n",
    "\n",
    "        "
   ]
  },
  {
   "cell_type": "code",
   "execution_count": 61,
   "metadata": {},
   "outputs": [
    {
     "name": "stdout",
     "output_type": "stream",
     "text": [
      "[[4, 6, 7, 8, 3, 5, 2, 1, 9], [8, 9, 5, 1, 7, 2, 0, 3, 4], [7, 3, 1, 9, 0, 4, 6, 8, 5], [1, 7, 8, 5, 4, 6, 9, 2, 3], [9, 4, 6, 7, 2, 8, 5, 0, 1], [6, 5, 2, 3, 9, 1, 8, 7, 0], [3, 2, 9, 4, 1, 0, 0, 6, 8], [5, 8, 3, 6, 0, 7, 0, 4, 2], [0, 0, 4, 2, 5, 3, 1, 9, 7]]\n"
     ]
    }
   ],
   "source": [
    "print(sudoku_array)"
   ]
  },
  {
   "cell_type": "code",
   "execution_count": 62,
   "metadata": {},
   "outputs": [
    {
     "data": {
      "text/plain": [
       "[[4, 6, 7, 8, 3, 5, 2, 1, 9],\n",
       " [8, 9, 5, 1, 7, 2, 0, 3, 4],\n",
       " [7, 3, 1, 9, 0, 4, 6, 8, 5],\n",
       " [1, 7, 8, 5, 4, 6, 9, 2, 3],\n",
       " [9, 4, 6, 7, 2, 8, 5, 0, 1],\n",
       " [6, 5, 2, 3, 9, 1, 8, 7, 0],\n",
       " [3, 2, 9, 4, 1, 0, 0, 6, 8],\n",
       " [5, 8, 3, 6, 0, 7, 0, 4, 2],\n",
       " [0, 0, 4, 2, 5, 3, 1, 9, 7]]"
      ]
     },
     "execution_count": 62,
     "metadata": {},
     "output_type": "execute_result"
    }
   ],
   "source": [
    "sudoku_array"
   ]
  },
  {
   "cell_type": "code",
   "execution_count": 6,
   "metadata": {},
   "outputs": [
    {
     "ename": "KeyboardInterrupt",
     "evalue": "",
     "output_type": "error",
     "traceback": [
      "\u001b[1;31m---------------------------------------------------------------------------\u001b[0m",
      "\u001b[1;31mKeyboardInterrupt\u001b[0m                         Traceback (most recent call last)",
      "\u001b[1;32mc:\\Users\\shash\\Desktop\\Code\\VSC\\algo\\sudoku_solver.ipynb Cell 12\u001b[0m line \u001b[0;36m3\n\u001b[0;32m     <a href='vscode-notebook-cell:/c%3A/Users/shash/Desktop/Code/VSC/algo/sudoku_solver.ipynb#X13sZmlsZQ%3D%3D?line=33'>34</a>\u001b[0m     \u001b[39m# If all cells are filled, the puzzle is solved\u001b[39;00m\n\u001b[0;32m     <a href='vscode-notebook-cell:/c%3A/Users/shash/Desktop/Code/VSC/algo/sudoku_solver.ipynb#X13sZmlsZQ%3D%3D?line=34'>35</a>\u001b[0m     \u001b[39mreturn\u001b[39;00m \u001b[39mTrue\u001b[39;00m\n\u001b[1;32m---> <a href='vscode-notebook-cell:/c%3A/Users/shash/Desktop/Code/VSC/algo/sudoku_solver.ipynb#X13sZmlsZQ%3D%3D?line=36'>37</a>\u001b[0m \u001b[39mif\u001b[39;00m solve_sudoku(main_problem):\n\u001b[0;32m     <a href='vscode-notebook-cell:/c%3A/Users/shash/Desktop/Code/VSC/algo/sudoku_solver.ipynb#X13sZmlsZQ%3D%3D?line=37'>38</a>\u001b[0m     \u001b[39mfor\u001b[39;00m row \u001b[39min\u001b[39;00m main_problem:\n\u001b[0;32m     <a href='vscode-notebook-cell:/c%3A/Users/shash/Desktop/Code/VSC/algo/sudoku_solver.ipynb#X13sZmlsZQ%3D%3D?line=38'>39</a>\u001b[0m         \u001b[39mprint\u001b[39m(row)\n",
      "\u001b[1;32mc:\\Users\\shash\\Desktop\\Code\\VSC\\algo\\sudoku_solver.ipynb Cell 12\u001b[0m line \u001b[0;36m2\n\u001b[0;32m     <a href='vscode-notebook-cell:/c%3A/Users/shash/Desktop/Code/VSC/algo/sudoku_solver.ipynb#X13sZmlsZQ%3D%3D?line=25'>26</a>\u001b[0m board[row][col] \u001b[39m=\u001b[39m num\n\u001b[0;32m     <a href='vscode-notebook-cell:/c%3A/Users/shash/Desktop/Code/VSC/algo/sudoku_solver.ipynb#X13sZmlsZQ%3D%3D?line=26'>27</a>\u001b[0m \u001b[39m# Recur with the updated board\u001b[39;00m\n\u001b[1;32m---> <a href='vscode-notebook-cell:/c%3A/Users/shash/Desktop/Code/VSC/algo/sudoku_solver.ipynb#X13sZmlsZQ%3D%3D?line=27'>28</a>\u001b[0m \u001b[39mif\u001b[39;00m solve_sudoku(board):\n\u001b[0;32m     <a href='vscode-notebook-cell:/c%3A/Users/shash/Desktop/Code/VSC/algo/sudoku_solver.ipynb#X13sZmlsZQ%3D%3D?line=28'>29</a>\u001b[0m     \u001b[39mreturn\u001b[39;00m \u001b[39mTrue\u001b[39;00m \n\u001b[0;32m     <a href='vscode-notebook-cell:/c%3A/Users/shash/Desktop/Code/VSC/algo/sudoku_solver.ipynb#X13sZmlsZQ%3D%3D?line=29'>30</a>\u001b[0m \u001b[39m# If the recursion does not lead to a solution, backtrack\u001b[39;00m\n",
      "\u001b[1;32mc:\\Users\\shash\\Desktop\\Code\\VSC\\algo\\sudoku_solver.ipynb Cell 12\u001b[0m line \u001b[0;36m2\n\u001b[0;32m     <a href='vscode-notebook-cell:/c%3A/Users/shash/Desktop/Code/VSC/algo/sudoku_solver.ipynb#X13sZmlsZQ%3D%3D?line=25'>26</a>\u001b[0m board[row][col] \u001b[39m=\u001b[39m num\n\u001b[0;32m     <a href='vscode-notebook-cell:/c%3A/Users/shash/Desktop/Code/VSC/algo/sudoku_solver.ipynb#X13sZmlsZQ%3D%3D?line=26'>27</a>\u001b[0m \u001b[39m# Recur with the updated board\u001b[39;00m\n\u001b[1;32m---> <a href='vscode-notebook-cell:/c%3A/Users/shash/Desktop/Code/VSC/algo/sudoku_solver.ipynb#X13sZmlsZQ%3D%3D?line=27'>28</a>\u001b[0m \u001b[39mif\u001b[39;00m solve_sudoku(board):\n\u001b[0;32m     <a href='vscode-notebook-cell:/c%3A/Users/shash/Desktop/Code/VSC/algo/sudoku_solver.ipynb#X13sZmlsZQ%3D%3D?line=28'>29</a>\u001b[0m     \u001b[39mreturn\u001b[39;00m \u001b[39mTrue\u001b[39;00m \n\u001b[0;32m     <a href='vscode-notebook-cell:/c%3A/Users/shash/Desktop/Code/VSC/algo/sudoku_solver.ipynb#X13sZmlsZQ%3D%3D?line=29'>30</a>\u001b[0m \u001b[39m# If the recursion does not lead to a solution, backtrack\u001b[39;00m\n",
      "    \u001b[1;31m[... skipping similar frames: solve_sudoku at line 28 (31 times)]\u001b[0m\n",
      "\u001b[1;32mc:\\Users\\shash\\Desktop\\Code\\VSC\\algo\\sudoku_solver.ipynb Cell 12\u001b[0m line \u001b[0;36m2\n\u001b[0;32m     <a href='vscode-notebook-cell:/c%3A/Users/shash/Desktop/Code/VSC/algo/sudoku_solver.ipynb#X13sZmlsZQ%3D%3D?line=25'>26</a>\u001b[0m board[row][col] \u001b[39m=\u001b[39m num\n\u001b[0;32m     <a href='vscode-notebook-cell:/c%3A/Users/shash/Desktop/Code/VSC/algo/sudoku_solver.ipynb#X13sZmlsZQ%3D%3D?line=26'>27</a>\u001b[0m \u001b[39m# Recur with the updated board\u001b[39;00m\n\u001b[1;32m---> <a href='vscode-notebook-cell:/c%3A/Users/shash/Desktop/Code/VSC/algo/sudoku_solver.ipynb#X13sZmlsZQ%3D%3D?line=27'>28</a>\u001b[0m \u001b[39mif\u001b[39;00m solve_sudoku(board):\n\u001b[0;32m     <a href='vscode-notebook-cell:/c%3A/Users/shash/Desktop/Code/VSC/algo/sudoku_solver.ipynb#X13sZmlsZQ%3D%3D?line=28'>29</a>\u001b[0m     \u001b[39mreturn\u001b[39;00m \u001b[39mTrue\u001b[39;00m \n\u001b[0;32m     <a href='vscode-notebook-cell:/c%3A/Users/shash/Desktop/Code/VSC/algo/sudoku_solver.ipynb#X13sZmlsZQ%3D%3D?line=29'>30</a>\u001b[0m \u001b[39m# If the recursion does not lead to a solution, backtrack\u001b[39;00m\n",
      "\u001b[1;32mc:\\Users\\shash\\Desktop\\Code\\VSC\\algo\\sudoku_solver.ipynb Cell 12\u001b[0m line \u001b[0;36m2\n\u001b[0;32m     <a href='vscode-notebook-cell:/c%3A/Users/shash/Desktop/Code/VSC/algo/sudoku_solver.ipynb#X13sZmlsZQ%3D%3D?line=21'>22</a>\u001b[0m \u001b[39mif\u001b[39;00m board[row][col] \u001b[39m==\u001b[39m \u001b[39m0\u001b[39m:\n\u001b[0;32m     <a href='vscode-notebook-cell:/c%3A/Users/shash/Desktop/Code/VSC/algo/sudoku_solver.ipynb#X13sZmlsZQ%3D%3D?line=22'>23</a>\u001b[0m     \u001b[39m# Try filling the cell with numbers from 1 to 9\u001b[39;00m\n\u001b[0;32m     <a href='vscode-notebook-cell:/c%3A/Users/shash/Desktop/Code/VSC/algo/sudoku_solver.ipynb#X13sZmlsZQ%3D%3D?line=23'>24</a>\u001b[0m     \u001b[39mfor\u001b[39;00m num \u001b[39min\u001b[39;00m \u001b[39mrange\u001b[39m(\u001b[39m1\u001b[39m, \u001b[39m10\u001b[39m):\n\u001b[1;32m---> <a href='vscode-notebook-cell:/c%3A/Users/shash/Desktop/Code/VSC/algo/sudoku_solver.ipynb#X13sZmlsZQ%3D%3D?line=24'>25</a>\u001b[0m         \u001b[39mif\u001b[39;00m is_valid(board, row, col, num):\n\u001b[0;32m     <a href='vscode-notebook-cell:/c%3A/Users/shash/Desktop/Code/VSC/algo/sudoku_solver.ipynb#X13sZmlsZQ%3D%3D?line=25'>26</a>\u001b[0m             board[row][col] \u001b[39m=\u001b[39m num\n\u001b[0;32m     <a href='vscode-notebook-cell:/c%3A/Users/shash/Desktop/Code/VSC/algo/sudoku_solver.ipynb#X13sZmlsZQ%3D%3D?line=26'>27</a>\u001b[0m             \u001b[39m# Recur with the updated board\u001b[39;00m\n",
      "\u001b[1;32mc:\\Users\\shash\\Desktop\\Code\\VSC\\algo\\sudoku_solver.ipynb Cell 12\u001b[0m line \u001b[0;36m1\n\u001b[0;32m     <a href='vscode-notebook-cell:/c%3A/Users/shash/Desktop/Code/VSC/algo/sudoku_solver.ipynb#X13sZmlsZQ%3D%3D?line=11'>12</a>\u001b[0m \u001b[39mfor\u001b[39;00m i \u001b[39min\u001b[39;00m \u001b[39mrange\u001b[39m(start_row, start_row \u001b[39m+\u001b[39m \u001b[39m3\u001b[39m):\n\u001b[0;32m     <a href='vscode-notebook-cell:/c%3A/Users/shash/Desktop/Code/VSC/algo/sudoku_solver.ipynb#X13sZmlsZQ%3D%3D?line=12'>13</a>\u001b[0m     \u001b[39mfor\u001b[39;00m j \u001b[39min\u001b[39;00m \u001b[39mrange\u001b[39m(start_col, start_col \u001b[39m+\u001b[39m \u001b[39m3\u001b[39m):\n\u001b[1;32m---> <a href='vscode-notebook-cell:/c%3A/Users/shash/Desktop/Code/VSC/algo/sudoku_solver.ipynb#X13sZmlsZQ%3D%3D?line=13'>14</a>\u001b[0m         \u001b[39mif\u001b[39;00m board[i][j] \u001b[39m==\u001b[39m num:\n\u001b[0;32m     <a href='vscode-notebook-cell:/c%3A/Users/shash/Desktop/Code/VSC/algo/sudoku_solver.ipynb#X13sZmlsZQ%3D%3D?line=14'>15</a>\u001b[0m             \u001b[39mreturn\u001b[39;00m \u001b[39mFalse\u001b[39;00m\n\u001b[0;32m     <a href='vscode-notebook-cell:/c%3A/Users/shash/Desktop/Code/VSC/algo/sudoku_solver.ipynb#X13sZmlsZQ%3D%3D?line=15'>16</a>\u001b[0m \u001b[39mreturn\u001b[39;00m \u001b[39mTrue\u001b[39;00m\n",
      "\u001b[1;31mKeyboardInterrupt\u001b[0m: "
     ]
    }
   ],
   "source": [
    "def is_valid(board, row, col, num):\n",
    "    # Check if the number is not in the current row\n",
    "    if num in board[row]:\n",
    "        return False\n",
    "    \n",
    "    # Check if the number is not in the current column\n",
    "    if num in [board[i][col] for i in range(9)]:\n",
    "        return False\n",
    "    \n",
    "    # Check if the number is not in the current 3x3 grid\n",
    "    start_row, start_col = 3 * (row // 3), 3 * (col // 3)\n",
    "    for i in range(start_row, start_row + 3):\n",
    "        for j in range(start_col, start_col + 3):\n",
    "            if board[i][j] == num:\n",
    "                return False\n",
    "    return True\n",
    "\n",
    "def solve_sudoku(board):\n",
    "    for row in range(9):\n",
    "        for col in range(9):\n",
    "            # If the cell is empty\n",
    "            if board[row][col] == 0:\n",
    "                # Try filling the cell with numbers from 1 to 9\n",
    "                for num in range(1, 10):\n",
    "                    if is_valid(board, row, col, num):\n",
    "                        board[row][col] = num\n",
    "                        # Recur with the updated board\n",
    "                        if solve_sudoku(board):\n",
    "                            return True \n",
    "                        # If the recursion does not lead to a solution, backtrack\n",
    "                        board[row][col] = 0\n",
    "                # If no number is valid, return to the previous recursive call and backtrack\n",
    "                return False\n",
    "    # If all cells are filled, the puzzle is solved\n",
    "    return True\n",
    "\n",
    "if solve_sudoku(main_problem):\n",
    "    for row in main_problem:\n",
    "        print(row)"
   ]
  },
  {
   "cell_type": "code",
   "execution_count": 64,
   "metadata": {},
   "outputs": [
    {
     "data": {
      "text/plain": [
       "[[4, 6, 7, 8, 3, 5, 2, 1, 9],\n",
       " [8, 9, 5, 1, 7, 2, 0, 3, 4],\n",
       " [7, 3, 1, 9, 0, 4, 6, 8, 5],\n",
       " [1, 7, 8, 5, 4, 6, 9, 2, 3],\n",
       " [9, 4, 6, 7, 2, 8, 5, 0, 1],\n",
       " [6, 5, 2, 3, 9, 1, 8, 7, 0],\n",
       " [3, 2, 9, 4, 1, 0, 0, 6, 8],\n",
       " [5, 8, 3, 6, 0, 7, 0, 4, 2],\n",
       " [0, 0, 4, 2, 5, 3, 1, 9, 7]]"
      ]
     },
     "execution_count": 64,
     "metadata": {},
     "output_type": "execute_result"
    }
   ],
   "source": [
    "main_problem"
   ]
  },
  {
   "cell_type": "code",
   "execution_count": 1,
   "metadata": {},
   "outputs": [
    {
     "name": "stdout",
     "output_type": "stream",
     "text": [
      "{{4,6,0,0,3,0,0,1,9},\n",
      "                {8,9,0,1,0,2,0,3,4},\n",
      "                {0,3,0,0,0,0,6,8,0},\n",
      "                {1,7,0,0,4,0,0,2,0},\n",
      "                {9,4,0,7,2,0,0,0,1},\n",
      "                {0,5,2,0,9,1,0,0,0},\n",
      "                {0,0,0,0,1,0,0,0,8},\n",
      "                {5,0,0,6,0,7,0,4,0},\n",
      "                {0,0,0,2,5,0,1,9,7}}\n"
     ]
    }
   ],
   "source": [
    "print(\"\"\"[[4,6,0,0,3,0,0,1,9],\n",
    "                [8,9,0,1,0,2,0,3,4],\n",
    "                [0,3,0,0,0,0,6,8,0],\n",
    "                [1,7,0,0,4,0,0,2,0],\n",
    "                [9,4,0,7,2,0,0,0,1],\n",
    "                [0,5,2,0,9,1,0,0,0],\n",
    "                [0,0,0,0,1,0,0,0,8],\n",
    "                [5,0,0,6,0,7,0,4,0],\n",
    "                [0,0,0,2,5,0,1,9,7]]\"\"\".replace('[', '{').replace(']', '}'))"
   ]
  }
 ],
 "metadata": {
  "kernelspec": {
   "display_name": "Python 3",
   "language": "python",
   "name": "python3"
  },
  "language_info": {
   "codemirror_mode": {
    "name": "ipython",
    "version": 3
   },
   "file_extension": ".py",
   "mimetype": "text/x-python",
   "name": "python",
   "nbconvert_exporter": "python",
   "pygments_lexer": "ipython3",
   "version": "3.11.6"
  }
 },
 "nbformat": 4,
 "nbformat_minor": 2
}
