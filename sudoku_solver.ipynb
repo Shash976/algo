{
 "cells": [
  {
   "cell_type": "code",
   "execution_count": 65,
   "metadata": {},
   "outputs": [],
   "source": [
    "main_problem = [[4,6,0,0,3,0,0,1,9],\n",
    "                [8,9,0,1,0,2,0,3,4],\n",
    "                [0,3,0,0,0,0,6,8,0],\n",
    "                [1,7,0,0,4,0,0,2,0],\n",
    "                [9,4,0,7,2,0,0,0,1],\n",
    "                [0,5,2,0,9,1,0,0,0],\n",
    "                [0,0,0,0,1,0,0,0,8],\n",
    "                [5,0,0,6,0,7,0,4,0],\n",
    "                [0,0,0,2,5,0,1,9,7]]"
   ]
  },
  {
   "cell_type": "code",
   "execution_count": 45,
   "metadata": {},
   "outputs": [],
   "source": [
    "sudoku_array = main_problem.copy()\n",
    "boxes = [[[0] * 3 for _ in range(3)] for _ in range(9)]\n",
    "for row_index, row in enumerate(sudoku_array):\n",
    "  for column_index, element in enumerate(row):\n",
    "    if element != 0:\n",
    "      box_index = (row_index // 3) * 3 + (column_index // 3)\n",
    "      boxes[box_index][row_index % 3][column_index % 3] = element\n"
   ]
  },
  {
   "cell_type": "code",
   "execution_count": 46,
   "metadata": {},
   "outputs": [
    {
     "name": "stdout",
     "output_type": "stream",
     "text": [
      "(9, 3, 3)\n",
      "[[[4 6 0]\n",
      "  [8 9 0]\n",
      "  [0 3 0]]\n",
      "\n",
      " [[0 3 0]\n",
      "  [1 0 2]\n",
      "  [0 0 0]]\n",
      "\n",
      " [[0 1 9]\n",
      "  [0 3 4]\n",
      "  [6 8 0]]\n",
      "\n",
      " [[1 7 0]\n",
      "  [9 4 0]\n",
      "  [0 5 2]]\n",
      "\n",
      " [[0 4 0]\n",
      "  [7 2 0]\n",
      "  [0 9 1]]\n",
      "\n",
      " [[0 2 0]\n",
      "  [0 0 1]\n",
      "  [0 0 0]]\n",
      "\n",
      " [[0 0 0]\n",
      "  [5 0 0]\n",
      "  [0 0 0]]\n",
      "\n",
      " [[0 1 0]\n",
      "  [6 0 7]\n",
      "  [2 5 0]]\n",
      "\n",
      " [[0 0 8]\n",
      "  [0 4 0]\n",
      "  [1 9 7]]]\n"
     ]
    }
   ],
   "source": [
    "import numpy as np\n",
    "print(np.array(boxes).shape)\n",
    "print(np.array(boxes))"
   ]
  },
  {
   "cell_type": "code",
   "execution_count": 47,
   "metadata": {},
   "outputs": [
    {
     "name": "stdout",
     "output_type": "stream",
     "text": [
      "3\n"
     ]
    }
   ],
   "source": [
    "boxes_rows = [boxes[i:i+3] for i in range(0,9,3)]\n",
    "print(len(boxes_rows))"
   ]
  },
  {
   "cell_type": "code",
   "execution_count": 48,
   "metadata": {},
   "outputs": [
    {
     "name": "stdout",
     "output_type": "stream",
     "text": [
      "[[[4, 6, 0], [8, 9, 0], [0, 3, 0]], [[0, 3, 0], [1, 0, 2], [0, 0, 0]], [[0, 1, 9], [0, 3, 4], [6, 8, 0]]]\n",
      "[[[1, 7, 0], [9, 4, 0], [0, 5, 2]], [[0, 4, 0], [7, 2, 0], [0, 9, 1]], [[0, 2, 0], [0, 0, 1], [0, 0, 0]]]\n",
      "[[[0, 0, 0], [5, 0, 0], [0, 0, 0]], [[0, 1, 0], [6, 0, 7], [2, 5, 0]], [[0, 0, 8], [0, 4, 0], [1, 9, 7]]]\n"
     ]
    }
   ],
   "source": [
    "for i in range (0,9,3):\n",
    "    print(boxes[i:i+3])"
   ]
  },
  {
   "cell_type": "code",
   "execution_count": 49,
   "metadata": {},
   "outputs": [
    {
     "data": {
      "text/plain": [
       "[[0, 4, 0], [7, 2, 0], [0, 9, 1]]"
      ]
     },
     "execution_count": 49,
     "metadata": {},
     "output_type": "execute_result"
    }
   ],
   "source": [
    "boxes_rows[1][1]"
   ]
  },
  {
   "cell_type": "code",
   "execution_count": 50,
   "metadata": {},
   "outputs": [],
   "source": [
    "for boxes_row_number, row_of_boxes in enumerate(boxes_rows):\n",
    "    for box_row_number, box in enumerate(row_of_boxes):\n",
    "        for row_number, row in enumerate(box):\n",
    "            for i in range(1,10):\n",
    "                if i not in row:\n",
    "                    if i not in main_problem[box_row_number]:\n",
    "                        pass"
   ]
  },
  {
   "cell_type": "code",
   "execution_count": 60,
   "metadata": {},
   "outputs": [],
   "source": [
    "for row_number, row in enumerate(sudoku_array):\n",
    "    for index, element in enumerate(row):\n",
    "        if element == 0:\n",
    "            for i in range(1,10):\n",
    "                if i not in row:\n",
    "                    if i not in [column[index] for column in sudoku_array]:\n",
    "                        if i not in [j for n in boxes_rows[row_number//3][index//3] for j in n]:\n",
    "                            sudoku_array[row_number][index] = i\n",
    "\n",
    "        "
   ]
  },
  {
   "cell_type": "code",
   "execution_count": 61,
   "metadata": {},
   "outputs": [
    {
     "name": "stdout",
     "output_type": "stream",
     "text": [
      "[[4, 6, 7, 8, 3, 5, 2, 1, 9], [8, 9, 5, 1, 7, 2, 0, 3, 4], [7, 3, 1, 9, 0, 4, 6, 8, 5], [1, 7, 8, 5, 4, 6, 9, 2, 3], [9, 4, 6, 7, 2, 8, 5, 0, 1], [6, 5, 2, 3, 9, 1, 8, 7, 0], [3, 2, 9, 4, 1, 0, 0, 6, 8], [5, 8, 3, 6, 0, 7, 0, 4, 2], [0, 0, 4, 2, 5, 3, 1, 9, 7]]\n"
     ]
    }
   ],
   "source": [
    "print(sudoku_array)"
   ]
  },
  {
   "cell_type": "code",
   "execution_count": 62,
   "metadata": {},
   "outputs": [
    {
     "data": {
      "text/plain": [
       "[[4, 6, 7, 8, 3, 5, 2, 1, 9],\n",
       " [8, 9, 5, 1, 7, 2, 0, 3, 4],\n",
       " [7, 3, 1, 9, 0, 4, 6, 8, 5],\n",
       " [1, 7, 8, 5, 4, 6, 9, 2, 3],\n",
       " [9, 4, 6, 7, 2, 8, 5, 0, 1],\n",
       " [6, 5, 2, 3, 9, 1, 8, 7, 0],\n",
       " [3, 2, 9, 4, 1, 0, 0, 6, 8],\n",
       " [5, 8, 3, 6, 0, 7, 0, 4, 2],\n",
       " [0, 0, 4, 2, 5, 3, 1, 9, 7]]"
      ]
     },
     "execution_count": 62,
     "metadata": {},
     "output_type": "execute_result"
    }
   ],
   "source": [
    "sudoku_array"
   ]
  },
  {
   "cell_type": "code",
   "execution_count": 66,
   "metadata": {},
   "outputs": [
    {
     "name": "stdout",
     "output_type": "stream",
     "text": [
      "[4, 6, 7, 5, 3, 8, 2, 1, 9]\n",
      "[8, 9, 5, 1, 6, 2, 7, 3, 4]\n",
      "[2, 3, 1, 4, 7, 9, 6, 8, 5]\n",
      "[1, 7, 8, 3, 4, 5, 9, 2, 6]\n",
      "[9, 4, 3, 7, 2, 6, 8, 5, 1]\n",
      "[6, 5, 2, 8, 9, 1, 4, 7, 3]\n",
      "[7, 2, 4, 9, 1, 3, 5, 6, 8]\n",
      "[5, 1, 9, 6, 8, 7, 3, 4, 2]\n",
      "[3, 8, 6, 2, 5, 4, 1, 9, 7]\n"
     ]
    }
   ],
   "source": [
    "def is_valid(board, row, col, num):\n",
    "    # Check if the number is not in the current row\n",
    "    if num in board[row]:\n",
    "        return False\n",
    "    \n",
    "    # Check if the number is not in the current column\n",
    "    if num in [board[i][col] for i in range(9)]:\n",
    "        return False\n",
    "    \n",
    "    # Check if the number is not in the current 3x3 grid\n",
    "    start_row, start_col = 3 * (row // 3), 3 * (col // 3)\n",
    "    for i in range(start_row, start_row + 3):\n",
    "        for j in range(start_col, start_col + 3):\n",
    "            if board[i][j] == num:\n",
    "                return False\n",
    "    return True\n",
    "\n",
    "def solve_sudoku(board):\n",
    "    for row in range(9):\n",
    "        for col in range(9):\n",
    "            # If the cell is empty\n",
    "            if board[row][col] == 0:\n",
    "                # Try filling the cell with numbers from 1 to 9\n",
    "                for num in range(1, 10):\n",
    "                    if is_valid(board, row, col, num):\n",
    "                        board[row][col] = num\n",
    "                        # Recur with the updated board\n",
    "                        if solve_sudoku(board):\n",
    "                            return True \n",
    "                        # If the recursion does not lead to a solution, backtrack\n",
    "                        board[row][col] = 0\n",
    "                # If no number is valid, return to the previous recursive call and backtrack\n",
    "                return False\n",
    "    # If all cells are filled, the puzzle is solved\n",
    "    return True\n",
    "\n",
    "if solve_sudoku(main_problem):\n",
    "    for row in main_problem:\n",
    "        print(row)"
   ]
  },
  {
   "cell_type": "code",
   "execution_count": 64,
   "metadata": {},
   "outputs": [
    {
     "data": {
      "text/plain": [
       "[[4, 6, 7, 8, 3, 5, 2, 1, 9],\n",
       " [8, 9, 5, 1, 7, 2, 0, 3, 4],\n",
       " [7, 3, 1, 9, 0, 4, 6, 8, 5],\n",
       " [1, 7, 8, 5, 4, 6, 9, 2, 3],\n",
       " [9, 4, 6, 7, 2, 8, 5, 0, 1],\n",
       " [6, 5, 2, 3, 9, 1, 8, 7, 0],\n",
       " [3, 2, 9, 4, 1, 0, 0, 6, 8],\n",
       " [5, 8, 3, 6, 0, 7, 0, 4, 2],\n",
       " [0, 0, 4, 2, 5, 3, 1, 9, 7]]"
      ]
     },
     "execution_count": 64,
     "metadata": {},
     "output_type": "execute_result"
    }
   ],
   "source": [
    "main_problem"
   ]
  },
  {
   "cell_type": "code",
   "execution_count": 1,
   "metadata": {},
   "outputs": [
    {
     "name": "stdout",
     "output_type": "stream",
     "text": [
      "{{4,6,0,0,3,0,0,1,9},\n",
      "                {8,9,0,1,0,2,0,3,4},\n",
      "                {0,3,0,0,0,0,6,8,0},\n",
      "                {1,7,0,0,4,0,0,2,0},\n",
      "                {9,4,0,7,2,0,0,0,1},\n",
      "                {0,5,2,0,9,1,0,0,0},\n",
      "                {0,0,0,0,1,0,0,0,8},\n",
      "                {5,0,0,6,0,7,0,4,0},\n",
      "                {0,0,0,2,5,0,1,9,7}}\n"
     ]
    }
   ],
   "source": [
    "print(\"\"\"[[4,6,0,0,3,0,0,1,9],\n",
    "                [8,9,0,1,0,2,0,3,4],\n",
    "                [0,3,0,0,0,0,6,8,0],\n",
    "                [1,7,0,0,4,0,0,2,0],\n",
    "                [9,4,0,7,2,0,0,0,1],\n",
    "                [0,5,2,0,9,1,0,0,0],\n",
    "                [0,0,0,0,1,0,0,0,8],\n",
    "                [5,0,0,6,0,7,0,4,0],\n",
    "                [0,0,0,2,5,0,1,9,7]]\"\"\".replace('[', '{').replace(']', '}'))"
   ]
  }
 ],
 "metadata": {
  "kernelspec": {
   "display_name": "Python 3",
   "language": "python",
   "name": "python3"
  },
  "language_info": {
   "codemirror_mode": {
    "name": "ipython",
    "version": 3
   },
   "file_extension": ".py",
   "mimetype": "text/x-python",
   "name": "python",
   "nbconvert_exporter": "python",
   "pygments_lexer": "ipython3",
   "version": "3.11.6"
  }
 },
 "nbformat": 4,
 "nbformat_minor": 2
}
